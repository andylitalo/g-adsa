{
 "cells": [
  {
   "cell_type": "code",
   "execution_count": 1,
   "metadata": {},
   "outputs": [
    {
     "data": {
      "text/html": [
       "<div>\n",
       "<style scoped>\n",
       "    .dataframe tbody tr th:only-of-type {\n",
       "        vertical-align: middle;\n",
       "    }\n",
       "\n",
       "    .dataframe tbody tr th {\n",
       "        vertical-align: top;\n",
       "    }\n",
       "\n",
       "    .dataframe thead th {\n",
       "        text-align: right;\n",
       "    }\n",
       "</style>\n",
       "<table border=\"1\" class=\"dataframe\">\n",
       "  <thead>\n",
       "    <tr style=\"text-align: right;\">\n",
       "      <th></th>\n",
       "      <th>Secs</th>\n",
       "      <th>Secs.1</th>\n",
       "      <th>Unnamed: 2</th>\n",
       "      <th>PndVol</th>\n",
       "      <th>IFT</th>\n",
       "      <th>PndVol.1</th>\n",
       "      <th>PndArea</th>\n",
       "      <th>TipWdth</th>\n",
       "      <th>WetTipW</th>\n",
       "      <th>Diam</th>\n",
       "      <th>LYb</th>\n",
       "      <th>LYBeta</th>\n",
       "      <th>LYErr</th>\n",
       "      <th>ApexX</th>\n",
       "      <th>ApexY</th>\n",
       "      <th>Contrst</th>\n",
       "      <th>Sharp</th>\n",
       "      <th>Black</th>\n",
       "      <th>White</th>\n",
       "      <th>Edge</th>\n",
       "    </tr>\n",
       "  </thead>\n",
       "  <tbody>\n",
       "    <tr>\n",
       "      <th>0</th>\n",
       "      <td>1.1000</td>\n",
       "      <td>0.0000</td>\n",
       "      <td>1</td>\n",
       "      <td>3.663</td>\n",
       "      <td>16.65</td>\n",
       "      <td>3.663</td>\n",
       "      <td>9.4066</td>\n",
       "      <td>2.0606</td>\n",
       "      <td>2.0558</td>\n",
       "      <td>2.0330</td>\n",
       "      <td>0.9093</td>\n",
       "      <td>-0.4868</td>\n",
       "      <td>0.00355</td>\n",
       "      <td>2.24</td>\n",
       "      <td>2.7501</td>\n",
       "      <td>235</td>\n",
       "      <td>175</td>\n",
       "      <td>20</td>\n",
       "      <td>255</td>\n",
       "      <td>117</td>\n",
       "    </tr>\n",
       "    <tr>\n",
       "      <th>1</th>\n",
       "      <td>1.1333</td>\n",
       "      <td>0.0333</td>\n",
       "      <td>2</td>\n",
       "      <td>3.704</td>\n",
       "      <td>16.65</td>\n",
       "      <td>3.704</td>\n",
       "      <td>9.4872</td>\n",
       "      <td>2.0606</td>\n",
       "      <td>2.0582</td>\n",
       "      <td>2.0333</td>\n",
       "      <td>0.9094</td>\n",
       "      <td>-0.4867</td>\n",
       "      <td>0.00356</td>\n",
       "      <td>2.24</td>\n",
       "      <td>2.7467</td>\n",
       "      <td>235</td>\n",
       "      <td>170</td>\n",
       "      <td>20</td>\n",
       "      <td>255</td>\n",
       "      <td>117</td>\n",
       "    </tr>\n",
       "    <tr>\n",
       "      <th>2</th>\n",
       "      <td>601.1333</td>\n",
       "      <td>600.0333</td>\n",
       "      <td>3</td>\n",
       "      <td>3.700</td>\n",
       "      <td>16.57</td>\n",
       "      <td>3.700</td>\n",
       "      <td>9.4796</td>\n",
       "      <td>2.0605</td>\n",
       "      <td>2.0591</td>\n",
       "      <td>2.0335</td>\n",
       "      <td>0.9089</td>\n",
       "      <td>-0.4885</td>\n",
       "      <td>0.00367</td>\n",
       "      <td>2.24</td>\n",
       "      <td>2.7623</td>\n",
       "      <td>235</td>\n",
       "      <td>170</td>\n",
       "      <td>20</td>\n",
       "      <td>255</td>\n",
       "      <td>117</td>\n",
       "    </tr>\n",
       "    <tr>\n",
       "      <th>3</th>\n",
       "      <td>1201.1333</td>\n",
       "      <td>1200.0333</td>\n",
       "      <td>4</td>\n",
       "      <td>3.660</td>\n",
       "      <td>16.63</td>\n",
       "      <td>3.660</td>\n",
       "      <td>9.3978</td>\n",
       "      <td>2.0600</td>\n",
       "      <td>2.0555</td>\n",
       "      <td>2.0336</td>\n",
       "      <td>0.9094</td>\n",
       "      <td>-0.4873</td>\n",
       "      <td>0.00365</td>\n",
       "      <td>2.24</td>\n",
       "      <td>2.7659</td>\n",
       "      <td>235</td>\n",
       "      <td>172</td>\n",
       "      <td>20</td>\n",
       "      <td>255</td>\n",
       "      <td>117</td>\n",
       "    </tr>\n",
       "    <tr>\n",
       "      <th>4</th>\n",
       "      <td>1801.1333</td>\n",
       "      <td>1800.0333</td>\n",
       "      <td>5</td>\n",
       "      <td>3.758</td>\n",
       "      <td>16.63</td>\n",
       "      <td>3.758</td>\n",
       "      <td>9.6010</td>\n",
       "      <td>2.0610</td>\n",
       "      <td>2.0563</td>\n",
       "      <td>2.0331</td>\n",
       "      <td>0.9093</td>\n",
       "      <td>-0.4873</td>\n",
       "      <td>0.00383</td>\n",
       "      <td>2.25</td>\n",
       "      <td>2.7633</td>\n",
       "      <td>236</td>\n",
       "      <td>176</td>\n",
       "      <td>19</td>\n",
       "      <td>255</td>\n",
       "      <td>116</td>\n",
       "    </tr>\n",
       "  </tbody>\n",
       "</table>\n",
       "</div>"
      ],
      "text/plain": [
       "        Secs     Secs.1  Unnamed: 2  PndVol    IFT  PndVol.1  PndArea  \\\n",
       "0     1.1000     0.0000           1   3.663  16.65     3.663   9.4066   \n",
       "1     1.1333     0.0333           2   3.704  16.65     3.704   9.4872   \n",
       "2   601.1333   600.0333           3   3.700  16.57     3.700   9.4796   \n",
       "3  1201.1333  1200.0333           4   3.660  16.63     3.660   9.3978   \n",
       "4  1801.1333  1800.0333           5   3.758  16.63     3.758   9.6010   \n",
       "\n",
       "   TipWdth  WetTipW    Diam     LYb  LYBeta    LYErr  ApexX   ApexY  Contrst  \\\n",
       "0   2.0606   2.0558  2.0330  0.9093 -0.4868  0.00355   2.24  2.7501      235   \n",
       "1   2.0606   2.0582  2.0333  0.9094 -0.4867  0.00356   2.24  2.7467      235   \n",
       "2   2.0605   2.0591  2.0335  0.9089 -0.4885  0.00367   2.24  2.7623      235   \n",
       "3   2.0600   2.0555  2.0336  0.9094 -0.4873  0.00365   2.24  2.7659      235   \n",
       "4   2.0610   2.0563  2.0331  0.9093 -0.4873  0.00383   2.25  2.7633      236   \n",
       "\n",
       "   Sharp  Black  White  Edge  \n",
       "0    175     20    255   117  \n",
       "1    170     20    255   117  \n",
       "2    170     20    255   117  \n",
       "3    172     20    255   117  \n",
       "4    176     19    255   116  "
      ]
     },
     "execution_count": 1,
     "metadata": {},
     "output_type": "execute_result"
    }
   ],
   "source": [
    "file_path = '../../EXPERIMENTS/Italy/data/adsa/20190614_0617_1k2f_adsa_data.csv'\n",
    "import pandas as pd\n",
    "\n",
    "df = pd.read_csv(file_path, header=1)\n",
    "df.head()"
   ]
  },
  {
   "cell_type": "code",
   "execution_count": 2,
   "metadata": {},
   "outputs": [],
   "source": [
    "vol = df['PndVol']"
   ]
  },
  {
   "cell_type": "markdown",
   "metadata": {},
   "source": []
  },
  {
   "cell_type": "code",
   "execution_count": 11,
   "metadata": {
    "scrolled": true
   },
   "outputs": [
    {
     "data": {
      "image/png": "[encoded data removed]",
      "text/plain": [
       "<Figure size 432x288 with 1 Axes>"
      ]
     },
     "metadata": {},
     "output_type": "display_data"
    }
   ],
   "source": [
    "import matplotlib.pyplot as plt\n",
    "import numpy as np\n",
    "\n",
    "xlim = [125, 250]\n",
    "ylim = [3.2, 4.2]\n",
    "\n",
    "plt.figure()\n",
    "plt.plot(vol, '.')\n",
    "plt.xlabel('data points')\n",
    "plt.ylabel('drop volume [uL]')\n",
    "plt.xlim(xlim)\n",
    "plt.ylim(ylim)\n",
    "plt.show()"
   ]
  },
  {
   "cell_type": "code",
   "execution_count": 12,
   "metadata": {},
   "outputs": [
    {
     "data": {
      "text/plain": [
       "[<matplotlib.lines.Line2D at 0x208001d5e80>]"
      ]
     },
     "execution_count": 12,
     "metadata": {},
     "output_type": "execute_result"
    },
    {
     "data": {
      "image/png": "[encoded data removed]",
      "text/plain": [
       "<Figure size 432x288 with 1 Axes>"
      ]
     },
     "metadata": {},
     "output_type": "display_data"
    }
   ],
   "source": [
    "plt.plot(vol, 'r')"
   ]
  },
  {
   "cell_type": "code",
   "execution_count": null,
   "metadata": {},
   "outputs": [],
   "source": []
  }
 ],
 "metadata": {
  "kernelspec": {
   "display_name": "Python 3",
   "language": "python",
   "name": "python3"
  },
  "language_info": {
   "codemirror_mode": {
    "name": "ipython",
    "version": 3
   },
   "file_extension": ".py",
   "mimetype": "text/x-python",
   "name": "python",
   "nbconvert_exporter": "python",
   "pygments_lexer": "ipython3",
   "version": "3.6.5"
  }
 },
 "nbformat": 4,
 "nbformat_minor": 2
}
