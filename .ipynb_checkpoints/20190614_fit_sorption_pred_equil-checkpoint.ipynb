{
 "cells": [
  {
   "cell_type": "markdown",
   "metadata": {},
   "source": [
    "# Fitting the Sorption Profile of CO2 in Polyol to Predict Equilibrium\n",
    "\n",
    "## Introduction\n",
    "\n",
    "Because the diffusion of a gas into a liquid never truly reaches equilibrium, the G-ADSA method developed by Prof. Ernesto Di Maio must necessarily terminate measurement of the change in mass due to solvation of CO2 in the polymer before equilibrium is reached. To calculate the true equilibrium value, extrapolation is required (otherwise the results will suffer from a systematic underestimation of the solubility). This file intends to identify a satisfactory mathematical fit to the mass increase over time to extrapolate the equilibrium mass."
   ]
  },
  {
   "cell_type": "code",
   "execution_count": 131,
   "metadata": {},
   "outputs": [],
   "source": [
    "import numpy as np\n",
    "import matplotlib.pyplot as plt\n",
    "import pandas as pd\n",
    "\n",
    "from datetime import time\n",
    "from scipy.optimize import curve_fit\n",
    "\n",
    "import dataproc\n",
    "\n",
    "from importlib import reload\n",
    "reload(dataproc)\n",
    "\n",
    "# Set user parameters\n",
    "data_folder = '../../EXPERIMENTS/Italy/data/adsa/'\n",
    "data_file = 'v2110b-TRD-061219-1804.csv'\n",
    "pressure_steps = [0, 50, 150, 500, 1000, 1500, 2000, 2500, 3000, 3500, 4000, 4500, 5000, 5500] # user-defined set points [kPa]\n",
    "p_thresh_frac = 0.02 # threshold for acceptable difference between actual pressure and set pressure [fraction]\n",
    "m_thresh = 0.00003 # threshold for mass to be considered stable [g]\n",
    "is_mp1 = 2 # number indicating that the balance is in the position for \"measuring point 1\" (crucible, hook, sample)"
   ]
  },
  {
   "cell_type": "markdown",
   "metadata": {},
   "source": [
    "## Load Data"
   ]
  },
  {
   "cell_type": "code",
   "execution_count": 132,
   "metadata": {
    "scrolled": true
   },
   "outputs": [
    {
     "data": {
      "text/html": [
       "<div>\n",
       "<style scoped>\n",
       "    .dataframe tbody tr th:only-of-type {\n",
       "        vertical-align: middle;\n",
       "    }\n",
       "\n",
       "    .dataframe tbody tr th {\n",
       "        vertical-align: top;\n",
       "    }\n",
       "\n",
       "    .dataframe thead th {\n",
       "        text-align: right;\n",
       "    }\n",
       "</style>\n",
       "<table border=\"1\" class=\"dataframe\">\n",
       "  <thead>\n",
       "    <tr style=\"text-align: right;\">\n",
       "      <th></th>\n",
       "      <th>No.</th>\n",
       "      <th>DATE</th>\n",
       "      <th>TIME</th>\n",
       "      <th>TEMP4_PV</th>\n",
       "      <th>TEMP4_SV</th>\n",
       "      <th>Julabo_Ext_PV</th>\n",
       "      <th>Julabo_Int_PV</th>\n",
       "      <th>Julabo_SV</th>\n",
       "      <th>BALANCE POSITION</th>\n",
       "      <th>WEITGHT(g)</th>\n",
       "      <th>...</th>\n",
       "      <th>V17</th>\n",
       "      <th>V18</th>\n",
       "      <th>V19</th>\n",
       "      <th>V20</th>\n",
       "      <th>TMP_START</th>\n",
       "      <th>P5_HV</th>\n",
       "      <th>C_PUMP</th>\n",
       "      <th>C1</th>\n",
       "      <th>C2</th>\n",
       "      <th>Julabo_CTRL</th>\n",
       "    </tr>\n",
       "  </thead>\n",
       "  <tbody>\n",
       "    <tr>\n",
       "      <th>64</th>\n",
       "      <td>65</td>\n",
       "      <td>06-12-2019</td>\n",
       "      <td>18:37:28</td>\n",
       "      <td>26.7</td>\n",
       "      <td>0.0</td>\n",
       "      <td>28.1</td>\n",
       "      <td>39.9</td>\n",
       "      <td>30.0</td>\n",
       "      <td>2.0</td>\n",
       "      <td>7.96887</td>\n",
       "      <td>...</td>\n",
       "      <td>1</td>\n",
       "      <td>1</td>\n",
       "      <td>0</td>\n",
       "      <td>0</td>\n",
       "      <td>1</td>\n",
       "      <td>1</td>\n",
       "      <td>0</td>\n",
       "      <td>0</td>\n",
       "      <td>0</td>\n",
       "      <td>Ext_CTRL</td>\n",
       "    </tr>\n",
       "    <tr>\n",
       "      <th>65</th>\n",
       "      <td>66</td>\n",
       "      <td>06-12-2019</td>\n",
       "      <td>18:37:58</td>\n",
       "      <td>26.7</td>\n",
       "      <td>0.0</td>\n",
       "      <td>28.1</td>\n",
       "      <td>39.9</td>\n",
       "      <td>30.0</td>\n",
       "      <td>2.0</td>\n",
       "      <td>7.96887</td>\n",
       "      <td>...</td>\n",
       "      <td>1</td>\n",
       "      <td>1</td>\n",
       "      <td>0</td>\n",
       "      <td>0</td>\n",
       "      <td>1</td>\n",
       "      <td>1</td>\n",
       "      <td>0</td>\n",
       "      <td>0</td>\n",
       "      <td>0</td>\n",
       "      <td>Ext_CTRL</td>\n",
       "    </tr>\n",
       "    <tr>\n",
       "      <th>66</th>\n",
       "      <td>67</td>\n",
       "      <td>06-12-2019</td>\n",
       "      <td>18:38:28</td>\n",
       "      <td>26.7</td>\n",
       "      <td>0.0</td>\n",
       "      <td>28.1</td>\n",
       "      <td>39.9</td>\n",
       "      <td>30.0</td>\n",
       "      <td>2.0</td>\n",
       "      <td>7.96885</td>\n",
       "      <td>...</td>\n",
       "      <td>1</td>\n",
       "      <td>1</td>\n",
       "      <td>0</td>\n",
       "      <td>0</td>\n",
       "      <td>1</td>\n",
       "      <td>1</td>\n",
       "      <td>0</td>\n",
       "      <td>0</td>\n",
       "      <td>0</td>\n",
       "      <td>Ext_CTRL</td>\n",
       "    </tr>\n",
       "    <tr>\n",
       "      <th>67</th>\n",
       "      <td>68</td>\n",
       "      <td>06-12-2019</td>\n",
       "      <td>18:38:58</td>\n",
       "      <td>26.4</td>\n",
       "      <td>0.0</td>\n",
       "      <td>28.1</td>\n",
       "      <td>39.9</td>\n",
       "      <td>30.0</td>\n",
       "      <td>2.0</td>\n",
       "      <td>7.96885</td>\n",
       "      <td>...</td>\n",
       "      <td>1</td>\n",
       "      <td>1</td>\n",
       "      <td>0</td>\n",
       "      <td>0</td>\n",
       "      <td>1</td>\n",
       "      <td>1</td>\n",
       "      <td>0</td>\n",
       "      <td>0</td>\n",
       "      <td>0</td>\n",
       "      <td>Int-CTRL</td>\n",
       "    </tr>\n",
       "    <tr>\n",
       "      <th>68</th>\n",
       "      <td>69</td>\n",
       "      <td>06-12-2019</td>\n",
       "      <td>18:39:28</td>\n",
       "      <td>26.7</td>\n",
       "      <td>0.0</td>\n",
       "      <td>28.1</td>\n",
       "      <td>39.9</td>\n",
       "      <td>41.5</td>\n",
       "      <td>2.0</td>\n",
       "      <td>7.96884</td>\n",
       "      <td>...</td>\n",
       "      <td>1</td>\n",
       "      <td>1</td>\n",
       "      <td>0</td>\n",
       "      <td>0</td>\n",
       "      <td>1</td>\n",
       "      <td>1</td>\n",
       "      <td>0</td>\n",
       "      <td>0</td>\n",
       "      <td>0</td>\n",
       "      <td>Int-CTRL</td>\n",
       "    </tr>\n",
       "  </tbody>\n",
       "</table>\n",
       "<p>5 rows × 44 columns</p>\n",
       "</div>"
      ],
      "text/plain": [
       "    No.        DATE      TIME  TEMP4_PV  TEMP4_SV  Julabo_Ext_PV  \\\n",
       "64   65  06-12-2019  18:37:28      26.7       0.0           28.1   \n",
       "65   66  06-12-2019  18:37:58      26.7       0.0           28.1   \n",
       "66   67  06-12-2019  18:38:28      26.7       0.0           28.1   \n",
       "67   68  06-12-2019  18:38:58      26.4       0.0           28.1   \n",
       "68   69  06-12-2019  18:39:28      26.7       0.0           28.1   \n",
       "\n",
       "    Julabo_Int_PV  Julabo_SV  BALANCE POSITION  WEITGHT(g)     ...      V17  \\\n",
       "64           39.9       30.0               2.0     7.96887     ...        1   \n",
       "65           39.9       30.0               2.0     7.96887     ...        1   \n",
       "66           39.9       30.0               2.0     7.96885     ...        1   \n",
       "67           39.9       30.0               2.0     7.96885     ...        1   \n",
       "68           39.9       41.5               2.0     7.96884     ...        1   \n",
       "\n",
       "    V18  V19  V20  TMP_START  P5_HV  C_PUMP  C1  C2  Julabo_CTRL  \n",
       "64    1    0    0          1      1       0   0   0     Ext_CTRL  \n",
       "65    1    0    0          1      1       0   0   0     Ext_CTRL  \n",
       "66    1    0    0          1      1       0   0   0     Ext_CTRL  \n",
       "67    1    0    0          1      1       0   0   0     Int-CTRL  \n",
       "68    1    0    0          1      1       0   0   0     Int-CTRL  \n",
       "\n",
       "[5 rows x 44 columns]"
      ]
     },
     "execution_count": 132,
     "metadata": {},
     "output_type": "execute_result"
    }
   ],
   "source": [
    "df_full = pd.read_csv(data_folder + data_file, header=3)\n",
    "# remove data from before vacuum is reached\n",
    "vacuum_reached = np.where(df_full['Now Pressure(kPa)'].values==0)[0][0]\n",
    "df = df_full.iloc[vacuum_reached:]\n",
    "df.head()"
   ]
  },
  {
   "cell_type": "markdown",
   "metadata": {},
   "source": [
    "## Extract Data For Plotting"
   ]
  },
  {
   "cell_type": "code",
   "execution_count": 133,
   "metadata": {},
   "outputs": [],
   "source": [
    "# Extract time in terms of seconds after start\n",
    "date_raw = df['DATE']\n",
    "time_raw = df['TIME']\n",
    "t_arr = dataproc.convert_time(date_raw, time_raw)\n",
    "\n",
    "# Extract balance reading and position (to separate zero, measuring point 1, and measuring point 2)\n",
    "br_arr = df['WEITGHT(g)']\n",
    "bp_arr = df['BALANCE POSITION']\n",
    "\n",
    "# Extract the pressure\n",
    "p_arr = df['Now Pressure(kPa)']\n",
    "\n",
    "# Label the sections of the experiment by pressure steps (0 is preparation phase in vacuum)\n",
    "data_dict = {}\n",
    "\n",
    "for i in range(len(pressure_steps)):\n",
    "    p = pressure_steps[i]\n",
    "    inds_curr = np.logical_and(np.abs(p_arr - p) < p_thresh_frac*p, bp_arr == is_mp1)\n",
    "    data_dict[p] = {}\n",
    "    data_dict[p]['balance reading [g]'] = br_arr.values[inds_curr]\n",
    "    data_dict[p]['time [s]'] = t_arr[inds_curr]"
   ]
  },
  {
   "cell_type": "markdown",
   "metadata": {},
   "source": [
    "## Exploratory Data Analysis\n",
    "\n",
    "For simplicity, we will start by exploring the mass for the first pressure increase, when the pressure is set to 50 kPa."
   ]
  },
  {
   "cell_type": "code",
   "execution_count": 134,
   "metadata": {},
   "outputs": [
    {
     "data": {
      "text/plain": [
       "Text(0.5,1,'Mass over time at 150 kPa')"
      ]
     },
     "execution_count": 134,
     "metadata": {},
     "output_type": "execute_result"
    },
    {
     "data": {
      "image/png": "[encoded data removed]",
      "text/plain": [
       "<Figure size 432x288 with 1 Axes>"
      ]
     },
     "metadata": {},
     "output_type": "display_data"
    }
   ],
   "source": [
    "# extract mass and time\n",
    "p = 150 # pressure [kPa]\n",
    "m_150_arr = data_dict[p]['balance reading [g]']\n",
    "t_150_arr = data_dict[p]['time [s]']\n",
    "\n",
    "# Plot\n",
    "fig = plt.figure()\n",
    "ax = fig.add_subplot(111)\n",
    "ax.plot(t_150_arr, m_150_arr, '^')\n",
    "ax.set_xlabel('time [s]')\n",
    "ax.set_ylabel('balance reading [g]')\n",
    "ax.set_title('Mass over time at {p} kPa'.format(p=p))"
   ]
  },
  {
   "cell_type": "markdown",
   "metadata": {},
   "source": [
    "The plot does not seem to plateau at the end as hoped. This is not a huge problem because we will probably not use this measurement for fitting Huikuan's model.\n",
    "\n",
    "To determine the fit, I will now plot on semilog and loglog plots. This will be easier by plotting relative to the first point (meaning set the first point to 0 time and pressure)."
   ]
  },
  {
   "cell_type": "code",
   "execution_count": 135,
   "metadata": {},
   "outputs": [
    {
     "data": {
      "text/plain": [
       "Text(0.5,1,'Mass over time at 150 kPa')"
      ]
     },
     "execution_count": 135,
     "metadata": {},
     "output_type": "execute_result"
    },
    {
     "data": {
      "image/png": "[encoded data removed]",
      "text/plain": [
       "<Figure size 432x288 with 1 Axes>"
      ]
     },
     "metadata": {},
     "output_type": "display_data"
    },
    {
     "data": {
      "image/png": "[encoded data removed]",
      "text/plain": [
       "<Figure size 432x288 with 1 Axes>"
      ]
     },
     "metadata": {},
     "output_type": "display_data"
    }
   ],
   "source": [
    "# Zero data\n",
    "m_150_arr_0 = m_150_arr - m_150_arr[0]\n",
    "t_150_arr_0 = t_150_arr - t_150_arr[0]\n",
    "\n",
    "# Plot loglog\n",
    "fig = plt.figure()\n",
    "ax = fig.add_subplot(111)\n",
    "ax.loglog(t_150_arr_0, m_150_arr_0, '^')\n",
    "ax.set_xlabel('time [s]')\n",
    "ax.set_ylabel('balance reading [g]')\n",
    "ax.set_title('Mass over time at {p} kPa'.format(p=p))\n",
    "\n",
    "# Plot semilogx\n",
    "fig = plt.figure()\n",
    "ax = fig.add_subplot(111)\n",
    "ax.semilogx(t_150_arr_0, m_150_arr_0, '^')\n",
    "ax.set_xlabel('time [s]')\n",
    "ax.set_ylabel('balance reading [g]')\n",
    "ax.set_title('Mass over time at {p} kPa'.format(p=p))"
   ]
  },
  {
   "cell_type": "markdown",
   "metadata": {},
   "source": [
    "The loglog plot is more linear overall, but the semilogx plot is more linear at the end. However, now that I think about it, neither of these represents a trend that will approach a horizontal asymptote (the true equilibrium balance reading). Therefore, I will instead try to fit that data to specific functional forms that approach an asymptote."
   ]
  },
  {
   "cell_type": "code",
   "execution_count": 136,
   "metadata": {},
   "outputs": [
    {
     "data": {
      "text/plain": [
       "<matplotlib.legend.Legend at 0x20e534a0080>"
      ]
     },
     "execution_count": 136,
     "metadata": {},
     "output_type": "execute_result"
    },
    {
     "data": {
      "image/png": "[encoded data removed]",
      "text/plain": [
       "<Figure size 432x288 with 1 Axes>"
      ]
     },
     "metadata": {},
     "output_type": "display_data"
    }
   ],
   "source": [
    "# Define functional forms to fit\n",
    "\n",
    "def exponential_approach(x, a, b, c):\n",
    "    \"\"\"Exponential approach to asymptote. Negatives and /100 there because I can't figure out how to change the initial\n",
    "    parameters for the curve_fit function from all 1's.\"\"\"\n",
    "    return -a*np.exp(-b/100*x) + c\n",
    "\n",
    "def power_law_approach(x, a, b, c):\n",
    "    \"\"\"Power-law approach to asymptote.\"\"\"\n",
    "    return -a*x**(-b/100) + c\n",
    "\n",
    "# Perform exponential fit\n",
    "popt_exp, pcov_exp = curve_fit(exponential_approach, t_150_arr_0, m_150_arr_0)\n",
    "a_exp, b_exp, c_exp = popt_exp\n",
    "t_150_fit = np.linspace(0, t_150_arr_0[-1], 100)\n",
    "m_150_exp_fit = exponential_approach(t_150_fit, a_exp, b_exp, c_exp)\n",
    "# Plot exponential fit\n",
    "fig = plt.figure()\n",
    "ax = fig.add_subplot(111)\n",
    "ax.plot(t_150_arr_0, m_150_arr_0, '^', label='data')\n",
    "ax.plot(t_150_fit, m_150_exp_fit, label='{:.1e}*exp({:.1e}*t)+{:.1e}'.format(-a_exp, -b_exp/100, c_exp))\n",
    "ax.set_xlabel('time [s]')\n",
    "ax.set_ylabel('balance reading [g]')\n",
    "ax.set_title('Mass over time at {p} kPa'.format(p=p))\n",
    "plt.legend(loc='best')\n",
    "\n",
    "# # Perform power-law fit\n",
    "# popt_pwr, pcov_pwr = curve_fit(power_law_approach, t_50_arr_0[1:], m_50_arr_0[1:])\n",
    "# a_pwr, b_pwr, c_pwr = popt_pwr\n",
    "# m_50_pwr_fit = power_law_approach(t_50_fit[1:], a_exp, b_exp, c_exp)\n",
    "# # Plot exponential fit\n",
    "# fig = plt.figure()\n",
    "# ax = fig.add_subplot(111)\n",
    "# ax.plot(t_50_arr_0, m_50_arr_0, '^', label='data')\n",
    "# ax.plot(t_50_fit, m_50_pwr_fit, label='{:.1e}*exp({:.1e}*t)+{:.1e}'.format(-a_pwr, -b_pwr/100, c_pwr))\n",
    "# ax.set_xlabel('time [s]')\n",
    "# ax.set_ylabel('balance reading [g]')\n",
    "# ax.set_title('Mass over time at {p} kPa'.format(p=p))\n",
    "# plt.legend(loc='best')"
   ]
  },
  {
   "cell_type": "markdown",
   "metadata": {},
   "source": [
    "Looks like the exponential fit works well and the power-law fit fails, so I will use an exponential fit.\n",
    "\n",
    "## When to move to the next pressure step?\n",
    "\n",
    "To determine this, I must find the time after which additional data points no longer changes the prediction for the asymptotic equilibrium value. I will repeat this process for all of the pressure steps for which the pressure increases by 500 kPa since the time to reach equilibrium will be longest for these and these are the data points in which I am most interested."
   ]
  },
  {
   "cell_type": "code",
   "execution_count": 138,
   "metadata": {},
   "outputs": [
    {
     "name": "stdout",
     "output_type": "stream",
     "text": [
      "p = 1000\n",
      "t_cut 1260\n",
      "m_suff final\n",
      "[0.00992 0.00992 0.00993 0.00993 0.00993 0.00993 0.00994 0.00994 0.00994\n",
      " 0.00995]\n",
      "t_stab = 210 s\n",
      "p = 1500\n",
      "t_cut 1320\n",
      "m_suff final\n",
      "[0.01209 0.01209 0.01209 0.01209 0.01209 0.01209 0.01209 0.01209 0.01209\n",
      " 0.0121 ]\n",
      "t_stab = 600 s\n",
      "p = 2000\n",
      "t_cut 990\n",
      "m_suff final\n",
      "[0.01295 0.01295 0.01295 0.01295 0.01295 0.01296 0.01296 0.01296 0.01297\n",
      " 0.01297]\n",
      "t_stab = 330 s\n",
      "p = 2500\n",
      "t_cut 30\n",
      "m_suff final\n",
      "[0.01381 0.01381 0.01381 0.01649 0.01376 0.01378 0.01377 0.01376 0.01378\n",
      " 0.0138 ]\n",
      "t_stab = 30 s\n",
      "p = 3000\n",
      "t_cut 1680\n",
      "m_suff final\n",
      "[0.01485 0.01487 0.01487 0.01486 0.01484 0.01483 0.01485 0.01487 0.01486\n",
      " 0.01486]\n",
      "t_stab = 360 s\n",
      "[210. 600. 330.  30. 360.]\n"
     ]
    }
   ],
   "source": [
    "# pressures to consider [kPa]\n",
    "p_test = [1000, 1500, 2000, 2500, 3000]\n",
    "# initialize data structure to store stability times (time in which mass must be stable to move to next pressure step)\n",
    "stability_time_arr = np.zeros([len(p_test)])\n",
    "# time step between times to test for equilibrium\n",
    "dt = 30\n",
    "\n",
    "# Find the stability time for each pressure\n",
    "for i in range(len(p_test)):\n",
    "    # extract mass and time\n",
    "    p = p_test[i] # pressure [kPa]\n",
    "    print(\"p = \" + str(p))\n",
    "    m_arr = data_dict[p]['balance reading [g]']\n",
    "    t_arr = data_dict[p]['time [s]']\n",
    "    # zero mass and time\n",
    "    m_arr -= m_arr[0]\n",
    "    t_arr -= t_arr[0]\n",
    "    # find latest time needed to predict equilibrium point\n",
    "    m_eq_true = dataproc.extrapolate_equilibrium(t_arr, m_arr)\n",
    "    # cut final time\n",
    "    t_cut = dt\n",
    "    t_f = t_arr[-1]\n",
    "    inds_cut = t_arr < t_f - t_cut\n",
    "    m_eq_est = dataproc.extrapolate_equilibrium(t_arr[inds_cut], m_arr[inds_cut])\n",
    "    while np.abs(m_eq_est - m_eq_true) < m_thresh:\n",
    "        t_cut += dt\n",
    "        inds_cut = t_arr < t_arr[-1] - t_cut\n",
    "        m_eq_est = dataproc.extrapolate_equilibrium(t_arr[inds_cut], m_arr[inds_cut])\n",
    "    print(\"t_cut \" + str(t_cut))\n",
    "    # cut the time to the last required data point to get an accurate extrapolation for the equilibrium mass\n",
    "    inds_suff = t_f-t_arr >= t_cut\n",
    "    t_suff_arr = t_arr[inds_suff]\n",
    "    m_suff_arr = m_arr[inds_suff]\n",
    "    unstable_mass = np.abs(m_suff_arr[-1] - m_suff_arr) > m_thresh\n",
    "    ind_last_unstable_mass = np.where(unstable_mass)[0][-1]\n",
    "    ind_first_stable_mass = ind_last_unstable_mass + 1\n",
    "    print(\"m_suff final\")\n",
    "    print(m_suff_arr[-10:])\n",
    "    t_stab = t_suff_arr[-1] - t_suff_arr[ind_first_stable_mass]\n",
    "    print(\"t_stab = {t_stab} s\".format(t_stab=t_stab))\n",
    "    # save stability time\n",
    "    stability_time_arr[i] = t_stab\n",
    "    \n",
    "# print results for stability time\n",
    "print(stability_time_arr)"
   ]
  },
  {
   "cell_type": "markdown",
   "metadata": {},
   "source": [
    "It seems like the stability time varies substantially, but that 300 s is pretty good. This will ensure that the uncertainty in the equilibrium value is within about 30 ug, which is about 3% of the total change in mass from one pressure step to the next (500 kPa)."
   ]
  }
 ],
 "metadata": {
  "kernelspec": {
   "display_name": "Python 3",
   "language": "python",
   "name": "python3"
  },
  "language_info": {
   "codemirror_mode": {
    "name": "ipython",
    "version": 3
   },
   "file_extension": ".py",
   "mimetype": "text/x-python",
   "name": "python",
   "nbconvert_exporter": "python",
   "pygments_lexer": "ipython3",
   "version": "3.6.5"
  }
 },
 "nbformat": 4,
 "nbformat_minor": 2
}
