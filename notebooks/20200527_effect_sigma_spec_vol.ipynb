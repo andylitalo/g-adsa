{
 "cells": [
  {
   "cell_type": "markdown",
   "metadata": {},
   "source": [
    "# Effect of the Sigma Parameter for the Polyol on the Specific Volume\n",
    "\n",
    "I found that when I increased the hard-sphere diameter $\\sigma$ of the polyol, the specific volume shifted from increasing with pressure to decreasing. The following analysis seeks to model why."
   ]
  },
  {
   "cell_type": "markdown",
   "metadata": {},
   "source": [
    "We first compute the density ratio in terms of the weight fraction of CO2.\n",
    "\n",
    "\\begin{align*}\n",
    "    w &= \\frac{\\rho_{CO2}}{\\rho_{poly} + \\rho_{CO2}}\\\\\n",
    "    w &= \\frac{\\frac{\\rho_{CO2}}{\\rho_{poly}}}{1 + \\frac{\\rho_{CO2}}{\\rho_{poly}}}\\\\\n",
    "    \\frac{\\rho_{CO2}}{\\rho_{poly}} &= \\frac{w}{1-w}\\\\\n",
    "\\end{align*}\n",
    "\n",
    "Grows superlinearly if we assume $w$ grows roughly linearly with pressure $p$.\n",
    "\n",
    "Next, we note that the mass density is the number density times the mass of a bead $m_i$,\n",
    "\n",
    "\\begin{align*}\n",
    "    \\rho_i &= n_i m_i\\\\\n",
    "\\end{align*}\n",
    "\n",
    "We furthermore assume that the packing fraction $\\eta$ remains the same. The packing fraction is calculated as\n",
    "\n",
    "\\begin{align*}\n",
    "    \\eta &= n_{poly} v_{poly} + n_{CO2} v_{CO2}\\\\\n",
    "\\end{align*}\n",
    "\n",
    "where $v_i$ is the volume of one bead. We can rewrite the packing fraction as\n",
    "\n",
    "\\begin{align*}\n",
    "    \\eta &= n_{poly} \\left(v_{poly} + \\frac{n_{CO2}}{n_{poly}}v_{CO2}\\right)\\\\\n",
    "    \\eta &= n_{poly} \\left(v_{poly} + \\frac{\\rho_{CO2}}{\\rho_{poly}}\\frac{m_{poly}}{m_{CO2}}v_{CO2}\\right)\\\\\n",
    "    n_{poly} &= \\frac{\\eta}{v_{poly} + \\frac{\\rho_{CO2}}{\\rho_{poly}}\\frac{m_{poly}}{m_{CO2}}v_{CO2}}\\\\\n",
    "    \\rho_{poly} &=  \\frac{m_{poly}\\eta}{v_{poly} + \\frac{\\rho_{CO2}}{\\rho_{poly}}\\frac{m_{poly}}{m_{CO2}}v_{CO2}}\\\\\n",
    "    \\rho_{poly} &=  \\frac{m_{poly}\\eta}{v_{poly} + \\frac{w}{1-w}\\frac{m_{poly}}{m_{CO2}}v_{CO2}}\\\\\n",
    "\\end{align*}\n",
    "\n",
    "Finally, we calculate the overall density.\n",
    "\n",
    "\\begin{align*}\n",
    "    \\rho &= \\rho_{CO2} + \\rho_{poly}\\\\\n",
    "    &= \\rho_{poly} \\left(1 + \\frac{\\rho_{CO2}}{\\rho_{poly}}\\right)\\\\\n",
    "    &= \\rho_{poly} \\left(1 + \\frac{w}{1-w}\\right)\\\\\n",
    "    &= \\frac{\\rho_{poly}}{1-w}\\\\\n",
    "    &= \\frac{m_{poly}\\eta}{(1-w)v_{poly} + w\\frac{m_{poly}}{m_{CO2}}v_{CO2}}\\\\\n",
    "    &= \\frac{m_{poly}m_{CO2}\\eta}{(1-w) m_{poly}\\frac{\\pi}{6}\\sigma_{poly}^3 + w m_{CO2}\\frac{\\pi}{6}\\sigma_{CO2}^3 }\\\\\n",
    "    &= \\frac{A}{(1-w) m_{poly}\\sigma_{poly}^3 + w m_{CO2}\\sigma_{CO2}^3 }\\\\\n",
    "\\end{align*}\n",
    "\n",
    "where \n",
    "\n",
    "\\begin{align*}\n",
    "    A &= \\frac{6 m_{poly} m_{CO2} \\eta}{\\pi}\\\\\n",
    "\\end{align*}\n",
    "\n",
    "We plot $\\rho$ as a function of $w$ below."
   ]
  },
  {
   "cell_type": "code",
   "execution_count": 2,
   "metadata": {},
   "outputs": [
    {
     "data": {
      "text/plain": [
       "<matplotlib.legend.Legend at 0x27cfaf1ad30>"
      ]
     },
     "execution_count": 2,
     "metadata": {},
     "output_type": "execute_result"
    },
    {
     "data": {
      "image/png": "[encoded data removed]",
      "text/plain": [
       "<Figure size 432x288 with 1 Axes>"
      ]
     },
     "metadata": {
      "needs_background": "light"
     },
     "output_type": "display_data"
    }
   ],
   "source": [
    "import matplotlib.pyplot as plt\n",
    "import numpy as np\n",
    "\n",
    "def rho(w, sPPG):\n",
    "    sCO2 = 2.79\n",
    "    mPPG = 2700/123\n",
    "    mCO2 = 44/2\n",
    "    eta = 0.67 # random estimate of packing fraction\n",
    "    A = 6*mPPG*mCO2*eta/np.pi\n",
    "    \n",
    "    return A/((1-w)*mPPG*sPPG**3 + w*mCO2*sCO2**3)\n",
    "\n",
    "w = np.linspace(0, 0.25, 10)\n",
    "plt.plot(w, rho(w, 3.01), label=r'$\\sigma_{PPG} = 3.01$')\n",
    "plt.plot(w, rho(w, 3.17), label=r'$\\sigma_{PPG} = 3.17$')\n",
    "plt.xlabel('weight fraction CO2')\n",
    "plt.ylabel('density [a.u.]')\n",
    "plt.legend()"
   ]
  },
  {
   "cell_type": "markdown",
   "metadata": {},
   "source": [
    "While we don't replicate the switch from decreasing density with weight fraction of CO2 to increasing with increasing $\\sigma$ from 3.01 A to 3.17 A, as we saw in the PC-SAFT predictions, but we can show that the density grows more quickly with larger $\\sigma$."
   ]
  }
 ],
 "metadata": {
  "kernelspec": {
   "display_name": "Python 3",
   "language": "python",
   "name": "python3"
  },
  "language_info": {
   "codemirror_mode": {
    "name": "ipython",
    "version": 3
   },
   "file_extension": ".py",
   "mimetype": "text/x-python",
   "name": "python",
   "nbconvert_exporter": "python",
   "pygments_lexer": "ipython3",
   "version": "3.6.5"
  }
 },
 "nbformat": 4,
 "nbformat_minor": 4
}
