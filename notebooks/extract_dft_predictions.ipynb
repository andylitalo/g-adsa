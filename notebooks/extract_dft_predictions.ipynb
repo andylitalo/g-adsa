{
 "cells": [
  {
   "cell_type": "markdown",
   "metadata": {},
   "source": [
    "# Extracting Density Functional Theory (DFT) Predictions of Interfacial Tension\n",
    "\n",
    "Using Sriteja Mantha's modification of Huikuan Chao's code for calculating the interfacial tension along a planar surface between a polyol-rich phase and a CO2-rich phase, I computed DFT predictions of interfacial tension. I need to reformat them to compare them more easily with experimental measurements using Prof. Di Maio's G-ADSA technique. This notebook performs that reformatting and validates it.\n",
    "\n",
    "**Note:** the pressure given by the DFT results can be substantially different from the pressure used in PC-SAFT and provided in the `blkrho.inp` document. As a result, I interpolate the PC-SAFT data using the pressures from the DFT results so that the solubility data are given at the same pressure as the interfacial tension data.\n",
    "\n",
    "## Sensitivity Analysis \n",
    "\n",
    "I am expanding my simulations to study the sensitivity of interfacial tension to small variations in the PC-SAFT parameters, $\\sigma$, $\\epsilon$, $N$, and the temperature $T$. This investigation requires a different folder structure, so I have modified the data formatting notebook `extract_dft_if_tension.ipynb` accordingly."
   ]
  },
  {
   "cell_type": "code",
   "execution_count": 8,
   "metadata": {},
   "outputs": [],
   "source": [
    "import numpy as np\n",
    "import os\n",
    "import glob\n",
    "import pandas as pd\n",
    "\n",
    "import dftproc\n",
    "\n",
    "from importlib import reload\n",
    "\n",
    "reload(dftproc)\n",
    "\n",
    "# path to folder containing folders of DFT predictions\n",
    "dft_pred_folder = '../../../Wang/dft_string_method/bi_surf/3k2f_31c_sensitivity/' #3k2f_31c_sensitivity//' #N2f/60c/' # 3k2f_60c_sensitivity/' '../../../Wang/dft_string_method/bi_surf/' # \n",
    "# path to folder of saved results\n",
    "save_folder = 'dft_pred/3k2f_31c_sensitivity/' #3k2f_31c_sensitivity//' #'N2f/60c/' #3k2f_60c_sensitivity/' #  'dft_pred/' # 'dft_pred/3k2f_60c_sensitivity/' #\n",
    "# code for filenames\n",
    "folder_code = '*' #'*k*f*c*' # '*' #\n",
    "\n",
    "# CONVERSIONS\n",
    "Pa_2_kPa = 0.001 # converts Pa to kPa\n",
    "Nm_2_mNm = 1000 # converts N/m to mN/m\n",
    "MPa_2_kPa = 1000 # converts kPa to MPa\n",
    "\n",
    "def parse_folder_name(folder):\n",
    "    \"\"\"Parses folder name to create filename of structure #k#f_#c (Mw, functionality, temp. in C).\"\"\"\n",
    "    return folder.split('\\\\')[-1] # extracts filename from filepath"
   ]
  },
  {
   "cell_type": "code",
   "execution_count": 9,
   "metadata": {},
   "outputs": [
    {
     "name": "stdout",
     "output_type": "stream",
     "text": [
      "epsn_217-0.csv\n",
      "epsn_224-0.csv\n",
      "epsn_224-0~sigma_3-07.csv\n",
      "epsn_228-5~sigma_3-01~N_144.csv\n",
      "epsn_232-8~sigma_3-22.csv\n",
      "epsn_240-0.csv\n",
      "epsn_240-0~sigma_3-07.csv\n",
      "epsn_258-0~sigma_3-17.csv\n",
      "N_117-0.csv\n",
      "N_129-0.csv\n",
      "sigma_2-86.csv\n",
      "sigma_3-07.csv\n",
      "sigma_3-16.csv\n",
      "T_303-75.csv\n",
      "T_304-75.csv\n"
     ]
    }
   ],
   "source": [
    "# collects list of folders of interfacial tension predictions from DFT\n",
    "folder_list_temp = os.path.join(dft_pred_folder + folder_code)\n",
    "folder_list = glob.glob(folder_list_temp)\n",
    "\n",
    "# processes data in each folder to produce a file of interfacial tension data\n",
    "for folder in folder_list:\n",
    "    # loads list of files in the folder with surface tension data\n",
    "    file_list_temp = os.path.join(folder + '\\\\*surftsn.dat')\n",
    "    file_list = glob.glob(file_list_temp)\n",
    "    # skips empty folders and files\n",
    "    if len(file_list) == 0:\n",
    "        continue\n",
    "    # initializes lists of data\n",
    "    p = []\n",
    "    if_tension = []\n",
    "    for file in file_list:\n",
    "        data = np.genfromtxt(file)\n",
    "        p += [Pa_2_kPa*data[-1,0]] # extracts pressure [kPa]\n",
    "        if_tension += [Nm_2_mNm*data[-1,1]] # extracts interfacial tension [N/m]\n",
    "    \n",
    "    # computes solubility [w/w] and corresponding pressure [MPa]\n",
    "    p_dft, props = dftproc.get_props(folder + '//' + 'blkrho.inp', sort=True)\n",
    "    rho_co2, solub, spec_vol = props\n",
    "    \n",
    "    # interpolates solubility (pressure is converted to kPa)\n",
    "    solub_interp = np.interp(p, p_dft*MPa_2_kPa, solub)\n",
    "    # interpolates specific volume (pressure is converted to kPa)\n",
    "    spec_vol_interp = np.interp(p, p_dft*MPa_2_kPa, spec_vol)\n",
    "    # interpolates specific volume (pressure is converted to kPa)\n",
    "    rho_co2_interp = np.interp(p, p_dft*MPa_2_kPa, rho_co2)\n",
    "    \n",
    "    # orders predicted data points in terms of increasing pressure\n",
    "    data = list(zip(p, if_tension, solub_interp, spec_vol_interp, rho_co2_interp))\n",
    "    data.sort(key=lambda x : x[0])\n",
    "    \n",
    "    # saves DFT predictions in a file\n",
    "    df = pd.DataFrame(data, columns=['p actual [kPa]', 'if tension [mN/m]', \n",
    "                                     'solubility [w/w]', 'specific volume (fit) [mL/g]', 'co2 density [g/mL]'])\n",
    "    # parses folder name to create new file name (.csv)\n",
    "    filename = parse_folder_name(folder) + '.csv'\n",
    "    print(filename)\n",
    "    df.to_csv(save_folder + filename, index=False)"
   ]
  },
  {
   "cell_type": "code",
   "execution_count": null,
   "metadata": {},
   "outputs": [],
   "source": []
  }
 ],
 "metadata": {
  "kernelspec": {
   "display_name": "Python 3",
   "language": "python",
   "name": "python3"
  },
  "language_info": {
   "codemirror_mode": {
    "name": "ipython",
    "version": 3
   },
   "file_extension": ".py",
   "mimetype": "text/x-python",
   "name": "python",
   "nbconvert_exporter": "python",
   "pygments_lexer": "ipython3",
   "version": "3.6.10"
  }
 },
 "nbformat": 4,
 "nbformat_minor": 2
}
